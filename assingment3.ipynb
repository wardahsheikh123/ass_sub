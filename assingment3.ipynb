{
 "cells": [
  {
   "cell_type": "code",
   "execution_count": 1,
   "metadata": {},
   "outputs": [
    {
     "name": "stdout",
     "output_type": "stream",
     "text": [
      "enter first number 6\n",
      "enter second number 3\n",
      "enter operator -\n",
      "3 answer\n"
     ]
    }
   ],
   "source": [
    "val1=input('enter first number ')\n",
    "val2=input('enter second number ')\n",
    "operator = input('enter operator ')\n",
    "val1 = int(val1)\n",
    "val2 = int(val2)\n",
    "\n",
    "if operator == '+':\n",
    "    val = val1 + val2\n",
    "    print(val,'answer')\n",
    "    \n",
    "elif operator == '-':\n",
    "    val = val1 - val2\n",
    "    print(val,'answer')\n",
    "    \n",
    "elif operator == '*':\n",
    "    val = val1 * val2\n",
    "    print(val,'answer')\n",
    "    \n",
    "elif operator == '/':\n",
    "    val = val1 / val2\n",
    "    print(val,'answer')\n",
    "    \n",
    "else:\n",
    "    print('enter correct operator')\n",
    "    "
   ]
  },
  {
   "cell_type": "code",
   "execution_count": 6,
   "metadata": {},
   "outputs": [],
   "source": [
    "d = {1: 10, 2: 20, 3: 30, 4: 40, 5: 50, 6: 60}\n",
    "def is_key_present(x):\n",
    "  if x in d:\n",
    "      print('Key is present in the dictionary')\n",
    "  else:\n",
    "      print('Key is not present in the dictionary')"
   ]
  },
  {
   "cell_type": "code",
   "execution_count": 5,
   "metadata": {},
   "outputs": [
    {
     "name": "stdout",
     "output_type": "stream",
     "text": [
      "30 is a numeric Value in List\n",
      "20 is a numeric Value in List\n",
      "10.5 is a numeric Value in List\n"
     ]
    }
   ],
   "source": [
    "arr = ['jhon','merry',30,20,True,10.5,'a','b']\n",
    "for i in arr:\n",
    "    if type(i) == int:\n",
    "        print(i,\"is a numeric Value in List\")\n",
    "    elif type(i) == float:\n",
    "        print(i,\"is a numeric Value in List\")"
   ]
  },
  {
   "cell_type": "code",
   "execution_count": 8,
   "metadata": {},
   "outputs": [
    {
     "name": "stdout",
     "output_type": "stream",
     "text": [
      "Enter Key5\n",
      "Enter Value2\n",
      "{'5': '2'}\n"
     ]
    }
   ],
   "source": [
    "\n",
    "dic = {}\n",
    "keyinput = input(\"Enter Key\")\n",
    "valueinput = input(\"Enter Value\")\n",
    "dic.update({keyinput:valueinput})\n",
    "\n",
    "print(dic)"
   ]
  },
  {
   "cell_type": "code",
   "execution_count": 9,
   "metadata": {},
   "outputs": [
    {
     "name": "stdout",
     "output_type": "stream",
     "text": [
      "Sum of all numeric items a dictionary is 70\n"
     ]
    }
   ],
   "source": [
    "\n",
    "dic = {\n",
    "    'num1' : 10,\n",
    "    'num2' : 17,\n",
    "    'string':'Name',\n",
    "    'char':'a',\n",
    "    'num3' : 12,\n",
    "    'num4':31,\n",
    "}\n",
    "\n",
    "sum = 0\n",
    "\n",
    "for i in dic.values():\n",
    "    if type(i) == int:\n",
    "        sum +=i\n",
    "\n",
    "print(\"Sum of all numeric items a dictionary is\" , sum)"
   ]
  },
  {
   "cell_type": "code",
   "execution_count": 10,
   "metadata": {},
   "outputs": [
    {
     "name": "stdout",
     "output_type": "stream",
     "text": [
      "Enter Key Name Check if exist or not5\n",
      "Given Key dose not exist\n"
     ]
    }
   ],
   "source": [
    "dic = {\n",
    "    'num1' : 12,\n",
    "    'num2' : 15,\n",
    "    'string':'Name',\n",
    "    'char':'a',\n",
    "    'num3' : 17,\n",
    "    'num4':21,\n",
    "}\n",
    "check_key = input(\"Enter Key Name Check if exist or not\")\n",
    "flag = False\n",
    "for i in dic.keys():\n",
    "    if i == check_key:\n",
    "        flag = True\n",
    "        break\n",
    "\n",
    "if flag:\n",
    "    print(\"Given Key exist\")\n",
    "else:\n",
    "    print(\"Given Key dose not exist\")"
   ]
  },
  {
   "cell_type": "code",
   "execution_count": null,
   "metadata": {},
   "outputs": [],
   "source": []
  }
 ],
 "metadata": {
  "kernelspec": {
   "display_name": "Python 3",
   "language": "python",
   "name": "python3"
  },
  "language_info": {
   "codemirror_mode": {
    "name": "ipython",
    "version": 3
   },
   "file_extension": ".py",
   "mimetype": "text/x-python",
   "name": "python",
   "nbconvert_exporter": "python",
   "pygments_lexer": "ipython3",
   "version": "3.6.7"
  }
 },
 "nbformat": 4,
 "nbformat_minor": 2
}
